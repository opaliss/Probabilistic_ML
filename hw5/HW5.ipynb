{
 "cells": [
  {
   "cell_type": "markdown",
   "id": "b842a058",
   "metadata": {},
   "source": [
    "# HW5- Opal Issan"
   ]
  },
  {
   "cell_type": "code",
   "execution_count": 1,
   "id": "6a4509fd",
   "metadata": {},
   "outputs": [],
   "source": [
    "import numpy as np \n",
    "import matplotlib.pyplot as plt"
   ]
  },
  {
   "cell_type": "code",
   "execution_count": 2,
   "id": "b2589459",
   "metadata": {},
   "outputs": [],
   "source": [
    "import matplotlib.pyplot as plt\n",
    "import matplotlib\n",
    "font = {'family' : 'serif',\n",
    "        'size'   : 15}\n",
    "\n",
    "matplotlib.rc('font', **font)\n",
    "matplotlib.rc('xtick', labelsize=15) \n",
    "matplotlib.rc('ytick', labelsize=15) "
   ]
  },
  {
   "cell_type": "code",
   "execution_count": 3,
   "id": "bcd7fa00",
   "metadata": {},
   "outputs": [],
   "source": [
    "# training data\n",
    "data3_train = np.loadtxt('train3.txt', float)\n",
    "data5_train = np.loadtxt('train5.txt', float)\n",
    "\n",
    "x = np.zeros((700*2, 64))\n",
    "x[:700, :] = data3_train\n",
    "x[700:, :] = data5_train"
   ]
  },
  {
   "cell_type": "code",
   "execution_count": 4,
   "id": "2437d464",
   "metadata": {},
   "outputs": [
    {
     "data": {
      "text/plain": [
       "(1400, 64)"
      ]
     },
     "execution_count": 4,
     "metadata": {},
     "output_type": "execute_result"
    }
   ],
   "source": [
    "# 800 IMAGES, OF SIZE 8x8.\n",
    "np.shape(x)"
   ]
  },
  {
   "cell_type": "code",
   "execution_count": 5,
   "id": "041e677c",
   "metadata": {},
   "outputs": [
    {
     "data": {
      "text/plain": [
       "<matplotlib.image.AxesImage at 0x1237658b0>"
      ]
     },
     "execution_count": 5,
     "metadata": {},
     "output_type": "execute_result"
    },
    {
     "data": {
      "image/png": "[encoded data removed]",
      "text/plain": [
       "<Figure size 432x288 with 1 Axes>"
      ]
     },
     "metadata": {
      "needs_background": "light"
     },
     "output_type": "display_data"
    }
   ],
   "source": [
    "plt.imshow(np.reshape(x[0, :], (8,8), order=\"A\"))"
   ]
  },
  {
   "cell_type": "markdown",
   "id": "1133b590",
   "metadata": {},
   "source": [
    "### *5.4 (a)* I use gradient ascent to learn the weights that maximize the log-likelihood. "
   ]
  },
  {
   "cell_type": "code",
   "execution_count": 6,
   "id": "ebd39c64",
   "metadata": {},
   "outputs": [],
   "source": [
    "def sigmoid(z):\n",
    "    return 1./(1.+np.exp(-z))\n",
    "\n",
    "def get_label(ii):\n",
    "    if ii >= np.shape(x)[0]/2: \n",
    "        return 1\n",
    "    elif ii < np.shape(x)[0]/2:\n",
    "        return 0 \n",
    "\n",
    "def gradient(w, x):\n",
    "    G = np.zeros(len(w))\n",
    "    for ii in range(np.shape(x)[0]):\n",
    "        G += (get_label(ii) - sigmoid(np.dot(w, x[ii, :]))) * x[ii, :]\n",
    "    return G\n",
    "\n",
    "def log_likelihood(w, x):\n",
    "    L = 0\n",
    "    for ii in range(np.shape(x)[0]):\n",
    "        L += get_label(ii)*np.log(sigmoid(np.dot(w, x[ii, :]))) + \\\n",
    "        (1-get_label(ii))*np.log(sigmoid(np.dot(-w, x[ii, :])))\n",
    "    return L\n",
    "\n",
    "def percent_error_rate(w, x):\n",
    "    incorrect = 0 \n",
    "    for ii in range(np.shape(x)[0]):\n",
    "        if ii < np.shape(x)[0]/2:\n",
    "            if sigmoid(np.dot(w, x[ii, :])) > 0.5:\n",
    "                incorrect +=1\n",
    "        elif ii >= np.shape(x)[0]/2:\n",
    "            if sigmoid(np.dot(w, x[ii, :])) < 0.5:\n",
    "                incorrect +=1\n",
    "    return incorrect/ (np.shape(x)[0])"
   ]
  },
  {
   "cell_type": "code",
   "execution_count": 9,
   "id": "58bccc64",
   "metadata": {},
   "outputs": [
    {
     "name": "stdout",
     "output_type": "stream",
     "text": [
      "log-likelihood at iteration #0 is -970.4060527838883\n",
      "log-likelihood at iteration #500 is -206.36969116997165\n",
      "log-likelihood at iteration #1000 is -187.17222055306516\n",
      "log-likelihood at iteration #1500 is -179.03033909204663\n",
      "log-likelihood at iteration #2000 is -174.32142559260697\n",
      "log-likelihood at iteration #2500 is -171.22136555217975\n",
      "log-likelihood at iteration #3000 is -169.0329746770957\n",
      "log-likelihood at iteration #3500 is -167.4187014654701\n",
      "log-likelihood at iteration #4000 is -166.1908343353282\n",
      "log-likelihood at iteration #4500 is -165.2353163155186\n",
      "log-likelihood at iteration #5000 is -164.47844747761206\n",
      "log-likelihood at iteration #5500 is -163.870376647684\n",
      "log-likelihood at iteration #6000 is -163.37615821881974\n",
      "log-likelihood at iteration #6500 is -162.97057987463626\n",
      "log-likelihood at iteration #7000 is -162.63501528405482\n",
      "log-likelihood at iteration #7500 is -162.3554283516989\n",
      "log-likelihood at iteration #8000 is -162.12106325579612\n",
      "log-likelihood at iteration #8500 is -161.92355893366036\n",
      "log-likelihood at iteration #9000 is -161.75633507659157\n",
      "log-likelihood at iteration #9500 is -161.6141568611743\n"
     ]
    }
   ],
   "source": [
    "# number of iterations of gradient ascent. \n",
    "iterations = 10000\n",
    "\n",
    "# save log-likelihood at each iteration. \n",
    "log_likelihood_res = np.zeros(iterations)\n",
    "percent_error_res = np.zeros(iterations)\n",
    "# initialize weights and eta. \n",
    "eta = 0.2/np.shape(x)[0]\n",
    "w = np.zeros(np.shape(x)[1])\n",
    "\n",
    "for ii in range(iterations):\n",
    "    # keep track of performance\n",
    "    # save the log-likelihood at each iteration\n",
    "    log_likelihood_res[ii] = log_likelihood(w=w, x=x)\n",
    "    # save the perect error at each iteration\n",
    "    percent_error_res[ii] = percent_error_rate(w=w, x=x)\n",
    "    # using gradient ascent\n",
    "    w += eta * gradient(w=w, x=x)\n",
    "    \n",
    "    if ii % 500==0:\n",
    "        print(\"log-likelihood at iteration #\" + str(ii)+ \" is \" + str(log_likelihood_res[ii]))"
   ]
  },
  {
   "cell_type": "code",
   "execution_count": 10,
   "id": "8982bf68",
   "metadata": {},
   "outputs": [
    {
     "name": "stdout",
     "output_type": "stream",
     "text": [
      "weights =\n",
      "[[-0.84581986 -1.58050045 -1.15491987 -1.31845115 -0.67734112 -0.99723028\n",
      "   0.80192891  1.84220214]\n",
      " [-0.08023175 -0.1847138   0.27406507 -0.06067117 -0.52813383  0.85794474\n",
      "  -1.38260715 -1.38737182]\n",
      " [ 3.90558599  1.37214239  1.50591627  0.14575206  0.83986237 -2.21240528\n",
      "  -2.42353863 -2.70871098]\n",
      " [ 0.7642044   0.36644125  0.69652019 -0.34063136 -0.47432392 -2.5232365\n",
      "   0.46273175 -0.04146346]\n",
      " [ 0.5715988   1.19892352  0.07270174 -0.39995368 -0.64623714 -0.10111764\n",
      "  -0.55497539 -0.19510053]\n",
      " [ 1.24156706 -0.24537015 -0.36644999 -0.16545842  0.02880456 -1.01372579\n",
      "   0.92393507 -1.67733118]\n",
      " [ 1.57062766 -0.70931049  1.34709236  0.64379676  0.48911144 -0.40246843\n",
      "   0.16835328 -1.43632466]\n",
      " [ 0.63984859  0.29591866  0.904295    2.17697721  0.47916827  0.67664048\n",
      "   0.7592539  -0.53900548]]\n"
     ]
    }
   ],
   "source": [
    "print(\"weights =\")\n",
    "print(np.reshape(w, (8, 8), order=\"A\"))"
   ]
  },
  {
   "cell_type": "code",
   "execution_count": 11,
   "id": "6f9cc8c9",
   "metadata": {},
   "outputs": [
    {
     "data": {
      "image/png": "[encoded data removed]",
      "text/plain": [
       "<Figure size 720x360 with 1 Axes>"
      ]
     },
     "metadata": {
      "needs_background": "light"
     },
     "output_type": "display_data"
    }
   ],
   "source": [
    "fig, ax = plt.subplots(figsize=(10, 5))\n",
    "ax.plot(log_likelihood_res)\n",
    "ax.set_ylabel(\"Log-conditional likelihood)\", fontsize=15)\n",
    "ax.set_xlabel(\"Iterations\", fontsize=15)\n",
    "plt.savefig(\"log_likelihood.png\", dpi=500)"
   ]
  },
  {
   "cell_type": "code",
   "execution_count": 12,
   "id": "6c3521d0",
   "metadata": {},
   "outputs": [
    {
     "data": {
      "image/png": "[encoded data removed]",
      "text/plain": [
       "<Figure size 720x360 with 1 Axes>"
      ]
     },
     "metadata": {
      "needs_background": "light"
     },
     "output_type": "display_data"
    }
   ],
   "source": [
    "fig, ax = plt.subplots(figsize=(10, 5))\n",
    "ax.plot(percent_error_res[1:])\n",
    "ax.set_ylabel(\"Percent error rate\", fontsize=15)\n",
    "ax.set_xlabel(\"Iterations\", fontsize=15)\n",
    "plt.savefig(\"percent_error.png\", dpi=500)"
   ]
  },
  {
   "cell_type": "code",
   "execution_count": 13,
   "id": "08859f29",
   "metadata": {},
   "outputs": [
    {
     "name": "stdout",
     "output_type": "stream",
     "text": [
      "the training percent error in the last iteration is =  0.03785714285714286\n"
     ]
    }
   ],
   "source": [
    "print(\"the training percent error in the last iteration is = \", percent_error_res[-1])"
   ]
  },
  {
   "cell_type": "markdown",
   "id": "34553f58",
   "metadata": {},
   "source": [
    "### *5.4 (b)* The percent error rate on the testing data is 0.06"
   ]
  },
  {
   "cell_type": "code",
   "execution_count": 16,
   "id": "85e466a0",
   "metadata": {},
   "outputs": [],
   "source": [
    "# testing data\n",
    "data3_test = np.loadtxt('test3.txt', float)\n",
    "data5_test = np.loadtxt('test5.txt', float)\n",
    "\n",
    "x_test = np.zeros((800, 64))\n",
    "x_test[:400, :] = data3_test\n",
    "x_test[400:, :] = data5_test"
   ]
  },
  {
   "cell_type": "code",
   "execution_count": 17,
   "id": "f5db4c67",
   "metadata": {},
   "outputs": [
    {
     "data": {
      "text/plain": [
       "0.06125"
      ]
     },
     "execution_count": 17,
     "metadata": {},
     "output_type": "execute_result"
    }
   ],
   "source": [
    "percent_error_rate(w=w, x=x_test)"
   ]
  },
  {
   "cell_type": "code",
   "execution_count": null,
   "id": "0994bc44",
   "metadata": {},
   "outputs": [],
   "source": []
  }
 ],
 "metadata": {
  "kernelspec": {
   "display_name": "Python 3 (ipykernel)",
   "language": "python",
   "name": "python3"
  },
  "language_info": {
   "codemirror_mode": {
    "name": "ipython",
    "version": 3
   },
   "file_extension": ".py",
   "mimetype": "text/x-python",
   "name": "python",
   "nbconvert_exporter": "python",
   "pygments_lexer": "ipython3",
   "version": "3.9.13"
  }
 },
 "nbformat": 4,
 "nbformat_minor": 5
}

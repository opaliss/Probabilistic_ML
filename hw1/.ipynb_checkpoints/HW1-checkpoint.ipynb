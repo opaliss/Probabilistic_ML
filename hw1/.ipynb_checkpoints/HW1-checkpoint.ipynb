{
 "cells": [
  {
   "cell_type": "markdown",
   "id": "5a875c11",
   "metadata": {},
   "source": [
    "# HW1 - Opal Issan"
   ]
  },
  {
   "cell_type": "code",
   "execution_count": 1,
   "id": "115110d2",
   "metadata": {},
   "outputs": [],
   "source": [
    "import numpy as np \n",
    "import copy"
   ]
  },
  {
   "cell_type": "code",
   "execution_count": 2,
   "id": "e6c30a2f",
   "metadata": {},
   "outputs": [],
   "source": [
    "import matplotlib.pyplot as plt\n",
    "import matplotlib\n",
    "font = {'family' : 'serif',\n",
    "        'size'   : 15}\n",
    "\n",
    "matplotlib.rc('font', **font)\n",
    "matplotlib.rc('xtick', labelsize=15) \n",
    "matplotlib.rc('ytick', labelsize=15) "
   ]
  },
  {
   "cell_type": "code",
   "execution_count": 3,
   "id": "625665d0",
   "metadata": {},
   "outputs": [],
   "source": [
    "x = np.linspace(0.01, 5, 100)"
   ]
  },
  {
   "cell_type": "code",
   "execution_count": 4,
   "id": "a12b3ab5",
   "metadata": {},
   "outputs": [
    {
     "data": {
      "image/png": "[encoded data removed]",
      "text/plain": [
       "<Figure size 504x288 with 1 Axes>"
      ]
     },
     "metadata": {
      "needs_background": "light"
     },
     "output_type": "display_data"
    }
   ],
   "source": [
    "fig, ax = plt.subplots(figsize=(7, 4))\n",
    "ax.plot(x, x-1, label=\"$g(x) = x-1$\")\n",
    "ax.plot(x, np.log(x), label=\"$h(x) = \\log(x)$\")\n",
    "ax.plot(x,np.log(x) -x +1,  label=\"$f(x) = h(x) -g(x)$\")\n",
    "ax.axhline(0, ls=\"--\", c=\"r\", label=\"y=0\")\n",
    "ax.legend()\n",
    "ax.set_xlabel(\"x\")\n",
    "ax.set_ylabel(\"y\")\n",
    "plt.savefig(\"figs/plot1.png\")"
   ]
  },
  {
   "cell_type": "code",
   "execution_count": 5,
   "id": "f9872578",
   "metadata": {},
   "outputs": [
    {
     "data": {
      "text/plain": [
       "0.3680642071684971"
      ]
     },
     "execution_count": 5,
     "metadata": {},
     "output_type": "execute_result"
    }
   ],
   "source": [
    "0.1 * np.log(0.1/0.5) + 0.9 * np.log(0.9/0.5)"
   ]
  },
  {
   "cell_type": "code",
   "execution_count": 6,
   "id": "cc27545f",
   "metadata": {},
   "outputs": [
    {
     "data": {
      "text/plain": [
       "0.5108256237659907"
      ]
     },
     "execution_count": 6,
     "metadata": {},
     "output_type": "execute_result"
    }
   ],
   "source": [
    "0.5 * np.log(0.5/0.1) + 0.5 * np.log(0.5/0.9)"
   ]
  },
  {
   "cell_type": "markdown",
   "id": "e9abf00d",
   "metadata": {},
   "source": [
    "# Problem 1.9"
   ]
  },
  {
   "cell_type": "code",
   "execution_count": 7,
   "id": "762e83bb",
   "metadata": {},
   "outputs": [],
   "source": [
    "data = np.loadtxt(\"data/hw1_word_counts_05-2.txt\", dtype='str')"
   ]
  },
  {
   "cell_type": "code",
   "execution_count": 8,
   "id": "a01a20d3",
   "metadata": {},
   "outputs": [],
   "source": [
    "sum_words = 0\n",
    "for ii in range(np.shape(data)[0]):\n",
    "    sum_words += int(data[ii, 1])"
   ]
  },
  {
   "cell_type": "code",
   "execution_count": 9,
   "id": "b3234a49",
   "metadata": {},
   "outputs": [],
   "source": [
    "prior_dist = np.zeros(np.shape(data)[0])\n",
    "for ii in range(np.shape(data)[0]):\n",
    "    prior_dist[ii] = int(data[ii, 1])/sum_words"
   ]
  },
  {
   "cell_type": "code",
   "execution_count": 10,
   "id": "c0cc30c3",
   "metadata": {},
   "outputs": [
    {
     "data": {
      "text/plain": [
       "array([['THREE', '273077'],\n",
       "       ['SEVEN', '178842'],\n",
       "       ['EIGHT', '165764'],\n",
       "       ['WOULD', '159875'],\n",
       "       ['ABOUT', '157448'],\n",
       "       ['THEIR', '145434'],\n",
       "       ['WHICH', '142146'],\n",
       "       ['AFTER', '110102'],\n",
       "       ['FIRST', '109957'],\n",
       "       ['FIFTY', '106869'],\n",
       "       ['OTHER', '106052'],\n",
       "       ['FORTY', '94951'],\n",
       "       ['YEARS', '88900'],\n",
       "       ['THERE', '86502'],\n",
       "       ['SIXTY', '73086']], dtype='<U6')"
      ]
     },
     "execution_count": 10,
     "metadata": {},
     "output_type": "execute_result"
    }
   ],
   "source": [
    "data[np.argsort(prior_dist)[::-1][0:15], :]"
   ]
  },
  {
   "cell_type": "code",
   "execution_count": 11,
   "id": "eb69d5c1",
   "metadata": {},
   "outputs": [
    {
     "data": {
      "text/plain": [
       "array([['MAPCO', '6'],\n",
       "       ['BOSAK', '6'],\n",
       "       ['CAIXA', '6'],\n",
       "       ['OTTIS', '6'],\n",
       "       ['TROUP', '6'],\n",
       "       ['CLEFT', '7'],\n",
       "       ['FOAMY', '7'],\n",
       "       ['CCAIR', '7'],\n",
       "       ['SERNA', '7'],\n",
       "       ['YALOM', '7'],\n",
       "       ['TOCOR', '7'],\n",
       "       ['NIAID', '7'],\n",
       "       ['PAXON', '7'],\n",
       "       ['FABRI', '7']], dtype='<U6')"
      ]
     },
     "execution_count": 11,
     "metadata": {},
     "output_type": "execute_result"
    }
   ],
   "source": [
    "data[np.argsort(prior_dist)[0:14], :]"
   ]
  },
  {
   "cell_type": "markdown",
   "id": "859394cd",
   "metadata": {},
   "source": [
    "## Double Check with Instructor results\n",
    "### Ex1. {e,o}  $\\not \\in$ WORD"
   ]
  },
  {
   "cell_type": "code",
   "execution_count": 12,
   "id": "4a78d8d0",
   "metadata": {},
   "outputs": [],
   "source": [
    "letters = ['A','B','C','D','E','F','G','H','I','J','K','L','M','N','O','P','Q','R','S','T','U','V','W','X','Y','Z']"
   ]
  },
  {
   "cell_type": "code",
   "execution_count": 13,
   "id": "172d48f4",
   "metadata": {},
   "outputs": [],
   "source": [
    "def condition1(word):\n",
    "    if \"E\" in word:\n",
    "        return 0\n",
    "    elif \"O\" in word:\n",
    "        return 0\n",
    "    else:\n",
    "        return 1"
   ]
  },
  {
   "cell_type": "code",
   "execution_count": 14,
   "id": "64254956",
   "metadata": {},
   "outputs": [],
   "source": [
    "def hangman_algorithm(condition, data, prior_dist, letters, previously_guessed):\n",
    "    P_denom = 0\n",
    "    for ii in range(np.shape(data)[0]):\n",
    "        P_denom += condition(word=data[ii, 0]) * prior_dist[ii]\n",
    "        \n",
    "    P_letter = np.zeros(26)\n",
    "    P_bayes, P_let = 0, 0\n",
    "    \n",
    "    jj=0\n",
    "    for letter in letters:\n",
    "        for ii in range(np.shape(data)[0]):\n",
    "            word = data[ii, 0]\n",
    "            P_E = condition(word=word)\n",
    "            P_num =  P_E * prior_dist[ii]\n",
    "            if letter in word:\n",
    "                if letter not in previously_guessed: \n",
    "                    P_bayes += P_num/P_denom\n",
    "\n",
    "        P_letter[jj] = P_bayes\n",
    "        P_bayes=0\n",
    "        jj+=1\n",
    "    return P_letter"
   ]
  },
  {
   "cell_type": "code",
   "execution_count": 15,
   "id": "18507067",
   "metadata": {},
   "outputs": [
    {
     "name": "stdout",
     "output_type": "stream",
     "text": [
      "most likely next letter is  I\n",
      "The probability is 0.6366\n"
     ]
    }
   ],
   "source": [
    "P_letter = hangman_algorithm(condition=condition1, data=data, prior_dist=prior_dist, letters=letters, previously_guessed=[\"E\", \"O\"])\n",
    "print(\"most likely next letter is \", letters[np.argmax(P_letter)])\n",
    "print(\"The probability is\", round(np.max(P_letter), 4))"
   ]
  },
  {
   "cell_type": "markdown",
   "id": "6bac862b",
   "metadata": {},
   "source": [
    "### Ex2. D – – I – and none guessed wrong"
   ]
  },
  {
   "cell_type": "code",
   "execution_count": 16,
   "id": "cabaca45",
   "metadata": {},
   "outputs": [],
   "source": [
    "def condition2(word):\n",
    "    if \"D\" != word[0]:\n",
    "        return 0\n",
    "    elif \"I\" != word[3]:\n",
    "        return 0\n",
    "    elif \"D\" in word[1:]:\n",
    "        return 0\n",
    "    elif \"I\" in word[0:3]:\n",
    "        return 0\n",
    "    elif \"I\" == word[-1]:\n",
    "        return 0\n",
    "    else:\n",
    "        return 1"
   ]
  },
  {
   "cell_type": "code",
   "execution_count": 17,
   "id": "b8e3d38a",
   "metadata": {},
   "outputs": [
    {
     "name": "stdout",
     "output_type": "stream",
     "text": [
      "most likely next letter is  A\n",
      "The probability is 0.8207\n"
     ]
    }
   ],
   "source": [
    "P_letter = hangman_algorithm(condition=condition2, data=data, prior_dist=prior_dist, letters=letters, previously_guessed=[\"D\", \"I\"])\n",
    "print(\"most likely next letter is \", letters[np.argmax(P_letter)])\n",
    "print(\"The probability is\", round(np.max(P_letter), 4))"
   ]
  },
  {
   "cell_type": "markdown",
   "id": "3c2ce659",
   "metadata": {},
   "source": [
    "### Ex3. D – – I – and {A}$\\not \\in$ WORD"
   ]
  },
  {
   "cell_type": "code",
   "execution_count": 18,
   "id": "48588bae",
   "metadata": {},
   "outputs": [],
   "source": [
    "def condition3(word):\n",
    "    if \"D\" != word[0]:\n",
    "        return 0\n",
    "    elif \"I\" != word[3]:\n",
    "        return 0\n",
    "    elif \"D\" in word[1:]:\n",
    "        return 0\n",
    "    elif \"I\" in word[0:3]:\n",
    "        return 0\n",
    "    elif \"I\" == word[-1]:\n",
    "        return 0\n",
    "    elif \"A\" in word:\n",
    "        return 0 \n",
    "    else:\n",
    "        return 1"
   ]
  },
  {
   "cell_type": "code",
   "execution_count": 19,
   "id": "f0dc82a2",
   "metadata": {},
   "outputs": [
    {
     "name": "stdout",
     "output_type": "stream",
     "text": [
      "most likely next letter is  E\n",
      "The probability is 0.7521\n"
     ]
    }
   ],
   "source": [
    "P_letter = hangman_algorithm(condition=condition3, data=data, prior_dist=prior_dist, letters=letters, previously_guessed=[\"D\", \"I\", \"A\"])\n",
    "print(\"most likely next letter is \", letters[np.argmax(P_letter)])\n",
    "print(\"The probability is\", round(np.max(P_letter), 4))"
   ]
  },
  {
   "cell_type": "markdown",
   "id": "0a3c725c",
   "metadata": {},
   "source": [
    "### Ex4. – U – – – and {A, E, I, O, S}$\\not \\in$ WORD"
   ]
  },
  {
   "cell_type": "code",
   "execution_count": 20,
   "id": "a3d44da9",
   "metadata": {},
   "outputs": [],
   "source": [
    "def condition4(word):\n",
    "    if \"A\" in word:\n",
    "        return 0\n",
    "    elif \"E\" in word:\n",
    "        return 0\n",
    "    elif \"I\" in word:\n",
    "        return 0\n",
    "    elif \"O\" in word:\n",
    "        return 0\n",
    "    elif \"S\" in word:\n",
    "        return 0\n",
    "    elif \"U\"== word[0]:\n",
    "        return 0\n",
    "    elif \"U\" in word[2:]:\n",
    "        return 0\n",
    "    elif \"U\" != word[1]:\n",
    "        return 0\n",
    "    else:\n",
    "        return 1"
   ]
  },
  {
   "cell_type": "code",
   "execution_count": 21,
   "id": "457a3290",
   "metadata": {},
   "outputs": [
    {
     "name": "stdout",
     "output_type": "stream",
     "text": [
      "most likely next letter is  Y\n",
      "The probability is 0.627\n"
     ]
    }
   ],
   "source": [
    "P_letter = hangman_algorithm(condition=condition4, data=data, prior_dist=prior_dist, letters=letters, previously_guessed=[\"A\", \"E\", \"I\", \"O\", \"U\", \"S\"])\n",
    "print(\"most likely next letter is \", letters[np.argmax(P_letter)])\n",
    "print(\"The probability is\", round(np.max(P_letter), 4))"
   ]
  },
  {
   "cell_type": "markdown",
   "id": "f23904a6",
   "metadata": {},
   "source": [
    "# New problems\n",
    "### Ex1. – – – – – did not guess any letter prior"
   ]
  },
  {
   "cell_type": "code",
   "execution_count": 22,
   "id": "f357ab0b",
   "metadata": {},
   "outputs": [],
   "source": [
    "def condition5(word):\n",
    "    return 1"
   ]
  },
  {
   "cell_type": "code",
   "execution_count": 23,
   "id": "a2b30a06",
   "metadata": {},
   "outputs": [
    {
     "name": "stdout",
     "output_type": "stream",
     "text": [
      "most likely next letter is  E\n",
      "The probability is 0.5394\n"
     ]
    }
   ],
   "source": [
    "P_letter = hangman_algorithm(condition=condition5, data=data, prior_dist=prior_dist, letters=letters, previously_guessed=[])\n",
    "print(\"most likely next letter is \", letters[np.argmax(P_letter)])\n",
    "print(\"The probability is\", np.round(np.max(P_letter), 4))"
   ]
  },
  {
   "cell_type": "markdown",
   "id": "1b996fd5",
   "metadata": {},
   "source": [
    "### Ex2. – – – – – and {E, A} $\\not \\in$ WORD"
   ]
  },
  {
   "cell_type": "code",
   "execution_count": 24,
   "id": "33ec70c9",
   "metadata": {},
   "outputs": [],
   "source": [
    "def condition6(word):\n",
    "    if \"A\" in word:\n",
    "        return 0\n",
    "    elif \"E\" in word:\n",
    "        return 0\n",
    "    else:\n",
    "        return 1"
   ]
  },
  {
   "cell_type": "code",
   "execution_count": 25,
   "id": "6a527ff9",
   "metadata": {},
   "outputs": [
    {
     "name": "stdout",
     "output_type": "stream",
     "text": [
      "most likely next letter is  O\n",
      "The probability is 0.534\n"
     ]
    }
   ],
   "source": [
    "P_letter = hangman_algorithm(condition=condition6, data=data, prior_dist=prior_dist, letters=letters, previously_guessed=[\"A\", \"E\"])\n",
    "print(\"most likely next letter is \", letters[np.argmax(P_letter)])\n",
    "print(\"The probability is\", np.round(np.max(P_letter), 4))"
   ]
  },
  {
   "cell_type": "markdown",
   "id": "3a01444f",
   "metadata": {},
   "source": [
    "### Ex3. A – – – S non guessed wrong"
   ]
  },
  {
   "cell_type": "code",
   "execution_count": 26,
   "id": "4ccd8603",
   "metadata": {},
   "outputs": [],
   "source": [
    "def condition7(word):\n",
    "    if \"A\" != word[0]:\n",
    "        return 0\n",
    "    elif \"S\" != word[-1]:\n",
    "        return 0\n",
    "    elif \"A\" in word[1:]:\n",
    "        return 0\n",
    "    elif \"S\" in word[:-1]:\n",
    "        return 0\n",
    "    else:\n",
    "        return 1"
   ]
  },
  {
   "cell_type": "code",
   "execution_count": 27,
   "id": "ea1958c9",
   "metadata": {},
   "outputs": [
    {
     "name": "stdout",
     "output_type": "stream",
     "text": [
      "most likely next letter is  E\n",
      "The probability is 0.7715\n"
     ]
    }
   ],
   "source": [
    "P_letter = hangman_algorithm(condition=condition7, data=data, prior_dist=prior_dist, letters=letters, previously_guessed=[\"A\", \"S\"])\n",
    "print(\"most likely next letter is \", letters[np.argmax(P_letter)])\n",
    "print(\"The probability is\", np.round(np.max(P_letter), 4))"
   ]
  },
  {
   "cell_type": "markdown",
   "id": "dd516144",
   "metadata": {},
   "source": [
    "### Ex4. A – – – S {I}$\\not \\in$ WORD"
   ]
  },
  {
   "cell_type": "code",
   "execution_count": 28,
   "id": "cdc26f80",
   "metadata": {},
   "outputs": [],
   "source": [
    "def condition7(word):\n",
    "    if \"A\" != word[0]:\n",
    "        return 0\n",
    "    elif \"S\" != word[-1]:\n",
    "        return 0\n",
    "    elif \"A\" in word[1:]:\n",
    "        return 0\n",
    "    elif \"S\" in word[:-1]:\n",
    "        return 0\n",
    "    elif \"I\" in word:\n",
    "        return 0\n",
    "    else:\n",
    "        return 1"
   ]
  },
  {
   "cell_type": "code",
   "execution_count": 29,
   "id": "a1a8f2d3",
   "metadata": {},
   "outputs": [
    {
     "name": "stdout",
     "output_type": "stream",
     "text": [
      "most likely next letter is  E\n",
      "The probability is 0.7127\n"
     ]
    }
   ],
   "source": [
    "P_letter = hangman_algorithm(condition=condition7, data=data, prior_dist=prior_dist, letters=letters, previously_guessed=[\"A\", \"S\", \"I\"])\n",
    "print(\"most likely next letter is \", letters[np.argmax(P_letter)])\n",
    "print(\"The probability is\", np.round(np.max(P_letter), 4))"
   ]
  },
  {
   "cell_type": "markdown",
   "id": "b766b590",
   "metadata": {},
   "source": [
    "### Ex5. – – O – – {A, E, M, N, T}$\\not \\in$ WORD"
   ]
  },
  {
   "cell_type": "code",
   "execution_count": 30,
   "id": "9895e603",
   "metadata": {},
   "outputs": [],
   "source": [
    "def condition8(word):\n",
    "    if \"O\" != word[2]:\n",
    "        return 0\n",
    "    elif \"O\" in word[:2]:\n",
    "        return 0\n",
    "    elif \"O\" in word[3:]:\n",
    "        return 0\n",
    "    elif \"A\" in word:\n",
    "        return 0\n",
    "    elif \"E\" in word:\n",
    "        return 0\n",
    "    elif \"M\" in word:\n",
    "        return 0\n",
    "    elif \"N\" in word:\n",
    "        return 0\n",
    "    elif \"T\" in word:\n",
    "        return 0\n",
    "    else:\n",
    "        #print(word)\n",
    "        return 1"
   ]
  },
  {
   "cell_type": "code",
   "execution_count": 31,
   "id": "f3d4969d",
   "metadata": {},
   "outputs": [
    {
     "name": "stdout",
     "output_type": "stream",
     "text": [
      "most likely next letter is  R\n",
      "The probability is 0.7454\n"
     ]
    }
   ],
   "source": [
    "P_letter = hangman_algorithm(condition=condition8, data=data, prior_dist=prior_dist, letters=letters, previously_guessed=[\"A\", \"E\", \"M\", \"N\", \"T\", \"O\"])\n",
    "print(\"most likely next letter is \", letters[np.argmax(P_letter)])\n",
    "print(\"The probability is\", np.round(np.max(P_letter), 4))"
   ]
  },
  {
   "cell_type": "code",
   "execution_count": null,
   "id": "c101838a",
   "metadata": {},
   "outputs": [],
   "source": []
  }
 ],
 "metadata": {
  "kernelspec": {
   "display_name": "Python 3 (ipykernel)",
   "language": "python",
   "name": "python3"
  },
  "language_info": {
   "codemirror_mode": {
    "name": "ipython",
    "version": 3
   },
   "file_extension": ".py",
   "mimetype": "text/x-python",
   "name": "python",
   "nbconvert_exporter": "python",
   "pygments_lexer": "ipython3",
   "version": "3.9.6"
  }
 },
 "nbformat": 4,
 "nbformat_minor": 5
}

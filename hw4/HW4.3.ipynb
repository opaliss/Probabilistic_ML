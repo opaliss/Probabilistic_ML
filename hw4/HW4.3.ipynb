{
 "cells": [
  {
   "cell_type": "markdown",
   "id": "122946a5",
   "metadata": {},
   "source": [
    "# HW4- Opal Issan"
   ]
  },
  {
   "cell_type": "code",
   "execution_count": 1,
   "id": "2bf683f8",
   "metadata": {},
   "outputs": [],
   "source": [
    "import numpy as np \n",
    "import matplotlib.pyplot as plt"
   ]
  },
  {
   "cell_type": "code",
   "execution_count": 2,
   "id": "4aca5085",
   "metadata": {},
   "outputs": [],
   "source": [
    "words= np.loadtxt('hw4_vocab.txt', str)\n",
    "unigram = np.loadtxt('hw4_unigram.txt', int)\n",
    "bigram = np.loadtxt('hw4_bigram.txt', int)"
   ]
  },
  {
   "cell_type": "code",
   "execution_count": 3,
   "id": "125c742b",
   "metadata": {},
   "outputs": [
    {
     "name": "stdout",
     "output_type": "stream",
     "text": [
      "(144981, 3)\n"
     ]
    }
   ],
   "source": [
    "#print(words)\n",
    "print(np.shape(bigram))"
   ]
  },
  {
   "cell_type": "markdown",
   "id": "03796cb9",
   "metadata": {},
   "source": [
    "# (a) "
   ]
  },
  {
   "cell_type": "code",
   "execution_count": 4,
   "id": "e41c17b9",
   "metadata": {},
   "outputs": [
    {
     "name": "stdout",
     "output_type": "stream",
     "text": [
      "MILLION  --> 0.002072759168154815\n",
      "MORE  --> 0.0017088989966186725\n",
      "MR.  --> 0.0014416083492816956\n",
      "MOST  --> 0.0007879173033190295\n",
      "MARKET  --> 0.0007803712804681068\n",
      "MAY  --> 0.0007298973156289532\n",
      "M.  --> 0.0007034067394618568\n",
      "MANY  --> 0.0006967290595970209\n",
      "MADE  --> 0.0005598610827336895\n",
      "MUCH  --> 0.0005145971758110562\n",
      "MAKE  --> 0.0005144626437991272\n",
      "MONTH  --> 0.00044490959363187093\n",
      "MONEY  --> 0.00043710673693999306\n",
      "MONTHS  --> 0.0004057607781605526\n",
      "MY  --> 0.0004003183467688823\n",
      "MONDAY  --> 0.00038198530259784006\n",
      "MAJOR  --> 0.00037089252670515475\n",
      "MILITARY  --> 0.00035204581485220204\n",
      "MEMBERS  --> 0.00033606096579846475\n",
      "MIGHT  --> 0.00027358919153183117\n",
      "MEETING  --> 0.0002657374141083427\n",
      "MUST  --> 0.0002665079156312084\n",
      "ME  --> 0.00026357267173457725\n",
      "MARCH  --> 0.0002597935452176646\n",
      "MAN  --> 0.0002528834918776787\n",
      "MS.  --> 0.0002389900041002911\n",
      "MINISTER  --> 0.00023977273580605944\n",
      "MAKING  --> 0.00021170446604452378\n",
      "MOVE  --> 0.0002099555498894477\n",
      "MILES  --> 0.00020596851026319035\n"
     ]
    }
   ],
   "source": [
    "kk= 0 \n",
    "Total = np.sum(unigram)\n",
    "for word in words:\n",
    "    if word[0] == \"M\":\n",
    "        print(str(word) +\"  --> \"+ str(unigram[kk]/Total))\n",
    "    kk+=1"
   ]
  },
  {
   "cell_type": "markdown",
   "id": "e0fa9ea2",
   "metadata": {},
   "source": [
    "# (b)"
   ]
  },
  {
   "cell_type": "code",
   "execution_count": 5,
   "id": "54a0c807",
   "metadata": {},
   "outputs": [
    {
     "name": "stdout",
     "output_type": "stream",
     "text": [
      "4\n"
     ]
    },
    {
     "data": {
      "text/plain": [
       "'THE'"
      ]
     },
     "execution_count": 5,
     "metadata": {},
     "output_type": "execute_result"
    }
   ],
   "source": [
    "# search for the index of word \"THE\" in words\n",
    "kk=1\n",
    "for word in words:\n",
    "    if word==\"THE\":\n",
    "        print(kk)\n",
    "        break\n",
    "    kk+=1\n",
    "words[3]"
   ]
  },
  {
   "cell_type": "code",
   "execution_count": 6,
   "id": "3ac0bcec",
   "metadata": {},
   "outputs": [],
   "source": [
    "# now find the probabilities of P(THE|SOMETHING) most probabable\n",
    "top_ten_word = np.zeros(10, dtype=int)\n",
    "top_ten_count = np.zeros(10, dtype=int) \n",
    "\n",
    "total_count = 0\n",
    "\n",
    "for word1, word2, count in bigram:\n",
    "    if word1==4:\n",
    "        total_count += count\n",
    "        #print(words[word2-1], count)\n",
    "        if count >= np.min(top_ten_count):\n",
    "            index = np.argmin(top_ten_count)\n",
    "            top_ten_count[index] =  count\n",
    "            top_ten_word[index] = word2-1"
   ]
  },
  {
   "cell_type": "code",
   "execution_count": 7,
   "id": "7f60aa5d",
   "metadata": {},
   "outputs": [],
   "source": [
    "def conditional_prob(w1, w2):\n",
    "    holder = 0 \n",
    "    total_count = 0\n",
    "    for word1, word2, count in bigram:\n",
    "        if word1==w1:\n",
    "            total_count += count\n",
    "            if word2 ==w2:\n",
    "                holder =  count\n",
    "    return holder/total_count"
   ]
  },
  {
   "cell_type": "code",
   "execution_count": 8,
   "id": "7c4b455f",
   "metadata": {},
   "outputs": [],
   "source": [
    "def find_index(word):\n",
    "    kk=1\n",
    "    for w in words:\n",
    "        if w == word:\n",
    "            return kk\n",
    "        else:\n",
    "            kk+=1\n",
    "    return 1"
   ]
  },
  {
   "cell_type": "code",
   "execution_count": 9,
   "id": "e41764e2",
   "metadata": {},
   "outputs": [],
   "source": [
    "np.argsort(top_ten_count)\n",
    "\n",
    "sorted_words = words[top_ten_word[np.flip(np.argsort(top_ten_count))]]\n",
    "sorted_count = top_ten_count[np.flip(np.argsort(top_ten_count))]/total_count\n"
   ]
  },
  {
   "cell_type": "code",
   "execution_count": 10,
   "id": "5da06531",
   "metadata": {},
   "outputs": [
    {
     "name": "stdout",
     "output_type": "stream",
     "text": [
      "<UNK>---0.6150198100055118\n",
      "U.---0.013372499432610317\n",
      "FIRST---0.011720260675031612\n",
      "COMPANY---0.011658788055636611\n",
      "NEW---0.009451480076516552\n",
      "UNITED---0.008672308141231398\n",
      "GOVERNMENT---0.006803488635995202\n",
      "NINETEEN---0.006650714911000876\n",
      "SAME---0.006287066757449016\n",
      "TWO---0.006160749602827221\n"
     ]
    }
   ],
   "source": [
    "for ii in range(len(top_ten_word)):\n",
    "    print(str(sorted_words[ii]) + \"---\" + str(sorted_count[ii]))"
   ]
  },
  {
   "cell_type": "markdown",
   "id": "f0033316",
   "metadata": {},
   "source": [
    "# (c)"
   ]
  },
  {
   "cell_type": "markdown",
   "id": "129d9669",
   "metadata": {},
   "source": [
    "first lets compute the probability of the sentence in a unigram. "
   ]
  },
  {
   "cell_type": "code",
   "execution_count": 11,
   "id": "d110b0ef",
   "metadata": {},
   "outputs": [],
   "source": [
    "# THE, STOCK, MARKET, FELL, BY, ONE, HUNDRED, POINTS, LAST, WEEK \n",
    "prob_array = np.zeros(10)\n",
    "\n",
    "kk=0\n",
    "for word in words:\n",
    "    if word==\"THE\":\n",
    "        prob_array[0] = unigram[kk]/Total\n",
    "    elif word==\"STOCK\":\n",
    "        prob_array[1] = unigram[kk]/Total\n",
    "    elif word==\"MARKET\":\n",
    "        prob_array[2] = unigram[kk]/Total\n",
    "    elif word==\"FELL\":\n",
    "        prob_array[3] = unigram[kk]/Total\n",
    "    elif word==\"BY\":\n",
    "        prob_array[4] = unigram[kk]/Total\n",
    "    elif word==\"ONE\":\n",
    "        prob_array[5] = unigram[kk]/Total\n",
    "    elif word==\"HUNDRED\":\n",
    "        prob_array[6] = unigram[kk]/Total\n",
    "    elif word==\"POINTS\":\n",
    "        prob_array[7] = unigram[kk]/Total\n",
    "    elif word==\"LAST\":\n",
    "        prob_array[8] = unigram[kk]/Total\n",
    "    elif word==\"WEEK\":\n",
    "        prob_array[9] = unigram[kk]/Total\n",
    "    kk+=1"
   ]
  },
  {
   "cell_type": "code",
   "execution_count": 12,
   "id": "b454e950",
   "metadata": {},
   "outputs": [],
   "source": [
    "uni_prob = 1\n",
    "for prob in prob_array:\n",
    "    uni_prob *= prob"
   ]
  },
  {
   "cell_type": "code",
   "execution_count": 13,
   "id": "7a7a7f8a",
   "metadata": {},
   "outputs": [
    {
     "data": {
      "text/plain": [
       "-64.50944034364878"
      ]
     },
     "execution_count": 13,
     "metadata": {},
     "output_type": "execute_result"
    }
   ],
   "source": [
    "np.log(uni_prob)"
   ]
  },
  {
   "cell_type": "code",
   "execution_count": 14,
   "id": "6c670e14",
   "metadata": {},
   "outputs": [
    {
     "data": {
      "text/plain": [
       "-40.91813213378977"
      ]
     },
     "execution_count": 14,
     "metadata": {},
     "output_type": "execute_result"
    }
   ],
   "source": [
    "np.log(conditional_prob(w1=find_index(\"<s>\"), w2=find_index(\"THE\"))\n",
    "      * conditional_prob(w1=find_index(\"THE\"), w2=find_index(\"STOCK\"))\n",
    "      * conditional_prob(w1=find_index(\"STOCK\"), w2=find_index(\"MARKET\"))\n",
    "      * conditional_prob(w1=find_index(\"MARKET\"), w2=find_index(\"FELL\"))\n",
    "      * conditional_prob(w1=find_index(\"FELL\"), w2=find_index(\"BY\"))\n",
    "      * conditional_prob(w1=find_index(\"BY\"), w2=find_index(\"ONE\"))\n",
    "      * conditional_prob(w1=find_index(\"ONE\"), w2=find_index(\"HUNDRED\"))\n",
    "      * conditional_prob(w1=find_index(\"HUNDRED\"), w2=find_index(\"POINTS\"))\n",
    "      * conditional_prob(w1=find_index(\"POINTS\"), w2=find_index(\"LAST\"))\n",
    "      * conditional_prob(w1=find_index(\"LAST\"), w2=find_index(\"WEEK\")))"
   ]
  },
  {
   "cell_type": "markdown",
   "id": "a3e98d93",
   "metadata": {},
   "source": [
    "# (d) "
   ]
  },
  {
   "cell_type": "code",
   "execution_count": 15,
   "id": "f39071ce",
   "metadata": {},
   "outputs": [
    {
     "data": {
      "text/plain": [
       "-44.291934473132606"
      ]
     },
     "execution_count": 15,
     "metadata": {},
     "output_type": "execute_result"
    }
   ],
   "source": [
    "# THE SIXTEEN OFFICIALS SOLD FIRE INSURANCE\n",
    "# unigram\n",
    "prob_array = np.zeros(10)\n",
    "Total= np.sum(unigram)\n",
    "prod = (unigram[find_index(\"THE\")-1]/Total) * unigram[find_index(\"SIXTEEN\")-1]/Total* unigram[find_index(\"OFFICIALS\")-1]/Total * unigram[find_index(\"SOLD\")-1]/Total * unigram[find_index(\"FIRE\")-1]/Total * unigram[find_index(\"INSURANCE\")-1]/Total\n",
    "np.log(prod)"
   ]
  },
  {
   "cell_type": "code",
   "execution_count": 16,
   "id": "117489eb",
   "metadata": {},
   "outputs": [
    {
     "name": "stdout",
     "output_type": "stream",
     "text": [
      "0.0\n"
     ]
    }
   ],
   "source": [
    "# bigram \n",
    "bi_d = conditional_prob(w1=find_index(\"<s>\"), w2=find_index(\"THE\")) * conditional_prob(w1=find_index(\"THE\"), w2=find_index(\"SIXTEEN\")) * conditional_prob(w1=find_index(\"SIXTEEN\"), w2=find_index(\"OFFICIALS\")) * conditional_prob(w1=find_index(\"OFFICIALS\"), w2=find_index(\"SOLD\")) * conditional_prob(w1=find_index(\"SOLD\"), w2=find_index(\"FIRE\")) * conditional_prob(w1=find_index(\"FIRE\"), w2=find_index(\"INSURANCE\"))\n",
    "print(bi_d)"
   ]
  },
  {
   "cell_type": "markdown",
   "id": "d9fbbd14",
   "metadata": {},
   "source": [
    "# (e)"
   ]
  },
  {
   "cell_type": "code",
   "execution_count": 17,
   "id": "613a7531",
   "metadata": {},
   "outputs": [],
   "source": [
    "lam = np.linspace(0.01, 1, 100)\n",
    "\n",
    "def new_prob(w1, w2, lam):\n",
    "    Total = np.sum(unigram)\n",
    "    return lam * (unigram[find_index(w2)-1]/Total) + (1-lam) * conditional_prob(w1=find_index(w1), w2=find_index(w2))"
   ]
  },
  {
   "cell_type": "code",
   "execution_count": 18,
   "id": "4598c3a2",
   "metadata": {},
   "outputs": [],
   "source": [
    "res = np.zeros(len(lam))"
   ]
  },
  {
   "cell_type": "code",
   "execution_count": 19,
   "id": "79c1aaa3",
   "metadata": {},
   "outputs": [],
   "source": [
    "# THE SIXTEEN OFFICIALS SOLD FIRE INSURANCE\n",
    "ii=0\n",
    "for l in lam:\n",
    "    res[ii] = np.log(new_prob(w1=\"<s>\", w2=\"THE\", lam=l) *\n",
    "                     new_prob(w1=\"THE\", w2=\"SIXTEEN\", lam=l) *\n",
    "                     new_prob(w1=\"SIXTEEN\", w2=\"OFFICIALS\", lam=l) *\n",
    "                     new_prob(w1=\"OFFICIALS\", w2=\"SOLD\", lam=l) *\n",
    "                     new_prob(w1=\"SOLD\", w2=\"FIRE\", lam=l) *\n",
    "                     new_prob(w1=\"FIRE\", w2=\"INSURANCE\", lam=l))\n",
    "    ii+=1"
   ]
  },
  {
   "cell_type": "code",
   "execution_count": 20,
   "id": "774a10c1",
   "metadata": {},
   "outputs": [
    {
     "data": {
      "text/plain": [
       "Text(0, 0.5, 'Log-likelihood')"
      ]
     },
     "execution_count": 20,
     "metadata": {},
     "output_type": "execute_result"
    },
    {
     "data": {
      "image/png": "[encoded data removed]",
      "text/plain": [
       "<Figure size 432x288 with 1 Axes>"
      ]
     },
     "metadata": {
      "needs_background": "light"
     },
     "output_type": "display_data"
    }
   ],
   "source": [
    "plt.plot(lam, res)\n",
    "plt.scatter(lam[np.argmax(res)], np.max(res))\n",
    "plt.xlabel(\"$\\lambda$\")\n",
    "plt.ylabel(\"Log-likelihood\")"
   ]
  },
  {
   "cell_type": "code",
   "execution_count": 21,
   "id": "dd377255",
   "metadata": {},
   "outputs": [
    {
     "data": {
      "text/plain": [
       "0.65"
      ]
     },
     "execution_count": 21,
     "metadata": {},
     "output_type": "execute_result"
    }
   ],
   "source": [
    "lam[np.argmax(res)]"
   ]
  },
  {
   "cell_type": "code",
   "execution_count": null,
   "id": "352418c4",
   "metadata": {},
   "outputs": [],
   "source": []
  }
 ],
 "metadata": {
  "kernelspec": {
   "display_name": "Python 3 (ipykernel)",
   "language": "python",
   "name": "python3"
  },
  "language_info": {
   "codemirror_mode": {
    "name": "ipython",
    "version": 3
   },
   "file_extension": ".py",
   "mimetype": "text/x-python",
   "name": "python",
   "nbconvert_exporter": "python",
   "pygments_lexer": "ipython3",
   "version": "3.9.6"
  }
 },
 "nbformat": 4,
 "nbformat_minor": 5
}

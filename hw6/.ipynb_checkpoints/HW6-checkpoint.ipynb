{
 "cells": [
  {
   "cell_type": "markdown",
   "id": "5aff16eb",
   "metadata": {},
   "source": [
    "# HW6- Opal Issan \n",
    "# 6.2"
   ]
  },
  {
   "cell_type": "code",
   "execution_count": 1,
   "id": "5fee1688",
   "metadata": {},
   "outputs": [],
   "source": [
    "import numpy as np \n",
    "import matplotlib.pyplot as plt"
   ]
  },
  {
   "cell_type": "code",
   "execution_count": 2,
   "id": "bbff3e4b",
   "metadata": {},
   "outputs": [],
   "source": [
    "import matplotlib.pyplot as plt\n",
    "import matplotlib\n",
    "font = {'family' : 'serif',\n",
    "        'size'   : 15}\n",
    "\n",
    "matplotlib.rc('font', **font)\n",
    "matplotlib.rc('xtick', labelsize=15) \n",
    "matplotlib.rc('ytick', labelsize=15) "
   ]
  },
  {
   "cell_type": "code",
   "execution_count": 3,
   "id": "23802ba9",
   "metadata": {},
   "outputs": [],
   "source": [
    "# training data\n",
    "X = np.loadtxt('X.txt', float)\n",
    "Y = np.loadtxt('Y.txt', float)"
   ]
  },
  {
   "cell_type": "code",
   "execution_count": 4,
   "id": "baa509b8",
   "metadata": {},
   "outputs": [
    {
     "data": {
      "text/plain": [
       "(267, 23)"
      ]
     },
     "execution_count": 4,
     "metadata": {},
     "output_type": "execute_result"
    }
   ],
   "source": [
    "np.shape(X)"
   ]
  },
  {
   "cell_type": "code",
   "execution_count": 5,
   "id": "f7cd9d7a",
   "metadata": {},
   "outputs": [
    {
     "data": {
      "text/plain": [
       "(267,)"
      ]
     },
     "execution_count": 5,
     "metadata": {},
     "output_type": "execute_result"
    }
   ],
   "source": [
    "np.shape(Y)"
   ]
  },
  {
   "cell_type": "code",
   "execution_count": 6,
   "id": "5179ede3",
   "metadata": {},
   "outputs": [],
   "source": [
    "T = 267 \n",
    "n = 23"
   ]
  },
  {
   "cell_type": "code",
   "execution_count": 7,
   "id": "1be5b64f",
   "metadata": {},
   "outputs": [],
   "source": [
    "def prob_1(x, p, n=23):\n",
    "    # x is an n size vector \n",
    "    # p is an n size vector\n",
    "    prod = 1\n",
    "    for i in range(23):\n",
    "        prod *= (1 -p[i])**x[i]\n",
    "    return 1 - prod\n",
    "\n",
    "def prob_gen(y, x, p, n=23):\n",
    "    # x is an n size vector \n",
    "    # p is an n size vector\n",
    "    # y is a scalar\n",
    "    if y==0:\n",
    "        return 1 - prob_1(x, p)\n",
    "    elif y==1:\n",
    "        return prob_1(x, p)\n",
    "\n",
    "def likelihood(X, Y, p, T=267):\n",
    "    # X is (T,n) array\n",
    "    # Y is an T size vector\n",
    "    # p is an n size vector\n",
    "    val = 0\n",
    "    for t in range(T):\n",
    "        val += np.log(prob_gen(y=Y[t], x=X[t, :], p=p))\n",
    "    return val/T\n",
    "\n",
    "def prob_posterior(x, y,i, p):\n",
    "    # i is an integer\n",
    "    # x is an n size vector\n",
    "    # p is an n size vector\n",
    "    # y is a scalar\n",
    "    numerator = y * x[i] * p[i]\n",
    "    denom = prob_1(x=x, p=p)\n",
    "    return numerator/denom\n",
    "        \n",
    "def update_em(X, Y, p, n=23, T=267):\n",
    "    # X is (T,n) array\n",
    "    # Y is an T size vector\n",
    "    # p is an n size vector\n",
    "    val = np.zeros(n)\n",
    "    for i in range(n):\n",
    "        total=0\n",
    "        for t in range(T):\n",
    "            if X[t, i] == 1:\n",
    "                total+= 1\n",
    "                val[i] += prob_posterior(x=X[t, :], y=Y[t], i=i, p=p)\n",
    "        val[i] = val[i]/total\n",
    "    return val\n",
    "\n",
    "def number_of_mistakes(X, Y, p, n=23, T=267):\n",
    "    num=0\n",
    "    for ii in range(T):\n",
    "        # false positive\n",
    "        if prob_1(x=X[ii, :], p=p) >= 0.5 and Y[ii] == 0:\n",
    "            num+=1\n",
    "        # false negative\n",
    "        elif prob_1(x=X[ii, :], p=p) <= 0.5 and Y[ii] == 1:\n",
    "            num+=1\n",
    "    return num  "
   ]
  },
  {
   "cell_type": "code",
   "execution_count": 8,
   "id": "44e82a51",
   "metadata": {},
   "outputs": [],
   "source": [
    "p = np.ones(n) * 0.05"
   ]
  },
  {
   "cell_type": "code",
   "execution_count": 9,
   "id": "a9d13f30",
   "metadata": {},
   "outputs": [
    {
     "data": {
      "text/plain": [
       "array([0.05, 0.05, 0.05, 0.05, 0.05, 0.05, 0.05, 0.05, 0.05, 0.05, 0.05,\n",
       "       0.05, 0.05, 0.05, 0.05, 0.05, 0.05, 0.05, 0.05, 0.05, 0.05, 0.05,\n",
       "       0.05])"
      ]
     },
     "execution_count": 9,
     "metadata": {},
     "output_type": "execute_result"
    }
   ],
   "source": [
    "p"
   ]
  },
  {
   "cell_type": "code",
   "execution_count": 10,
   "id": "bb4f4d63",
   "metadata": {
    "scrolled": false
   },
   "outputs": [
    {
     "name": "stdout",
     "output_type": "stream",
     "text": [
      "iteration 0, log-likelihood =  -0.9580854082157914\n",
      "iteration 0, number of mistakes =  175\n",
      "\n",
      "\n",
      "iteration 1, log-likelihood =  -0.49591639407753635\n",
      "iteration 1, number of mistakes =  56\n",
      "\n",
      "\n",
      "iteration 2, log-likelihood =  -0.40822081705839114\n",
      "iteration 2, number of mistakes =  43\n",
      "\n",
      "\n",
      "iteration 4, log-likelihood =  -0.36461498250018765\n",
      "iteration 4, number of mistakes =  42\n",
      "\n",
      "\n",
      "iteration 8, log-likelihood =  -0.34750061620878253\n",
      "iteration 8, number of mistakes =  44\n",
      "\n",
      "\n",
      "iteration 16, log-likelihood =  -0.33461704895854844\n",
      "iteration 16, number of mistakes =  40\n",
      "\n",
      "\n",
      "iteration 32, log-likelihood =  -0.3225814031674978\n",
      "iteration 32, number of mistakes =  37\n",
      "\n",
      "\n",
      "iteration 64, log-likelihood =  -0.3148266983628558\n",
      "iteration 64, number of mistakes =  37\n",
      "\n",
      "\n",
      "iteration 128, log-likelihood =  -0.3111558472151897\n",
      "iteration 128, number of mistakes =  36\n",
      "\n",
      "\n",
      "iteration 256, log-likelihood =  -0.3101613534740759\n",
      "iteration 256, number of mistakes =  36\n",
      "\n",
      "\n"
     ]
    }
   ],
   "source": [
    "for ii in range(0, 257):\n",
    "    if ii in [0, 1, 2, 4, 8, 16, 32, 64, 128, 256]:\n",
    "        #print(p)\n",
    "        print(\"iteration \" + str(ii) + \", log-likelihood = \", likelihood(X=X, Y=Y, p=p))\n",
    "        print(\"iteration \" + str(ii) + \", number of mistakes = \", number_of_mistakes(X=X, Y=Y, p=p))\n",
    "        print(\"\\n\")\n",
    "    \n",
    "    # update p \n",
    "    p = update_em(X=X, Y=Y, p=p)"
   ]
  },
  {
   "cell_type": "code",
   "execution_count": null,
   "id": "5073ea99",
   "metadata": {},
   "outputs": [],
   "source": []
  },
  {
   "cell_type": "code",
   "execution_count": null,
   "id": "eaef6c32",
   "metadata": {},
   "outputs": [],
   "source": []
  }
 ],
 "metadata": {
  "kernelspec": {
   "display_name": "Python 3 (ipykernel)",
   "language": "python",
   "name": "python3"
  },
  "language_info": {
   "codemirror_mode": {
    "name": "ipython",
    "version": 3
   },
   "file_extension": ".py",
   "mimetype": "text/x-python",
   "name": "python",
   "nbconvert_exporter": "python",
   "pygments_lexer": "ipython3",
   "version": "3.9.13"
  }
 },
 "nbformat": 4,
 "nbformat_minor": 5
}

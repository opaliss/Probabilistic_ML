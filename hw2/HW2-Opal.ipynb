{
 "cells": [
  {
   "cell_type": "code",
   "execution_count": 1,
   "id": "cd082818",
   "metadata": {},
   "outputs": [],
   "source": [
    "import numpy as np \n",
    "import copy"
   ]
  },
  {
   "cell_type": "code",
   "execution_count": 2,
   "id": "d3eb0758",
   "metadata": {},
   "outputs": [],
   "source": [
    "import matplotlib.pyplot as plt\n",
    "import matplotlib\n",
    "font = {'family' : 'serif',\n",
    "        'size'   : 15}\n",
    "\n",
    "matplotlib.rc('font', **font)\n",
    "matplotlib.rc('xtick', labelsize=15) \n",
    "matplotlib.rc('ytick', labelsize=15) "
   ]
  },
  {
   "cell_type": "code",
   "execution_count": 3,
   "id": "1156ad83",
   "metadata": {},
   "outputs": [],
   "source": [
    "Pe = 0.002\n",
    "Pb = 0.001"
   ]
  },
  {
   "cell_type": "code",
   "execution_count": 5,
   "id": "616a7c8f",
   "metadata": {},
   "outputs": [],
   "source": [
    "Pa = 0.001 * 0.998 * 0.999 + 0.94 * 0.998 * 0.001 + 0.29 * 0.002 * 0.999 + 0.95 *0.002 * 0.001"
   ]
  },
  {
   "cell_type": "code",
   "execution_count": 6,
   "id": "d3680530",
   "metadata": {},
   "outputs": [
    {
     "data": {
      "text/plain": [
       "0.002516442"
      ]
     },
     "execution_count": 6,
     "metadata": {},
     "output_type": "execute_result"
    }
   ],
   "source": [
    "Pa"
   ]
  },
  {
   "cell_type": "code",
   "execution_count": 8,
   "id": "e547f751",
   "metadata": {},
   "outputs": [
    {
     "data": {
      "text/plain": [
       "0.231008701968891"
      ]
     },
     "execution_count": 8,
     "metadata": {},
     "output_type": "execute_result"
    }
   ],
   "source": [
    "(0.29 * Pe *(1-Pb) + 0.95 *Pe*(Pb))/Pa"
   ]
  },
  {
   "cell_type": "code",
   "execution_count": 9,
   "id": "1f3b05ff",
   "metadata": {},
   "outputs": [
    {
     "data": {
      "text/plain": [
       "0.36755386565272496"
      ]
     },
     "execution_count": 9,
     "metadata": {},
     "output_type": "execute_result"
    }
   ],
   "source": [
    "(0.29 * Pe * (1-Pb))/((1-Pb)* (0.29)*(Pe) + (1-Pb)*(0.001)*(1-Pe))"
   ]
  },
  {
   "cell_type": "code",
   "execution_count": 10,
   "id": "222bb630",
   "metadata": {},
   "outputs": [
    {
     "data": {
      "text/plain": [
       "0.15009011774975958"
      ]
     },
     "execution_count": 10,
     "metadata": {},
     "output_type": "execute_result"
    }
   ],
   "source": [
    "(0.7 * Pa)/(0.7 * Pa + (1-Pa) * 0.01)"
   ]
  },
  {
   "cell_type": "code",
   "execution_count": 11,
   "id": "21e1693f",
   "metadata": {},
   "outputs": [
    {
     "data": {
      "text/plain": [
       "0.018249738245007474"
      ]
     },
     "execution_count": 11,
     "metadata": {},
     "output_type": "execute_result"
    }
   ],
   "source": [
    "(0.7 * 0.1 *Pa)/(Pa *0.7*0.1 + (1-Pa)*0.01*0.95)"
   ]
  },
  {
   "cell_type": "code",
   "execution_count": 12,
   "id": "40a95a1c",
   "metadata": {},
   "outputs": [
    {
     "data": {
      "text/plain": [
       "0.0007638979701066938"
      ]
     },
     "execution_count": 12,
     "metadata": {},
     "output_type": "execute_result"
    }
   ],
   "source": [
    "(0.3 * Pa)/(0.3*Pa + (1-Pa)*0.99)"
   ]
  },
  {
   "cell_type": "code",
   "execution_count": 7,
   "id": "1ab3ca4a",
   "metadata": {},
   "outputs": [
    {
     "data": {
      "text/plain": [
       "0.059980000000000054"
      ]
     },
     "execution_count": 7,
     "metadata": {},
     "output_type": "execute_result"
    }
   ],
   "source": [
    "Pa1 = (1-0.94)*0.998 + (1-0.95)*0.002\n",
    "Pa1"
   ]
  },
  {
   "cell_type": "code",
   "execution_count": 8,
   "id": "9d89397c",
   "metadata": {},
   "outputs": [
    {
     "data": {
      "text/plain": [
       "0.94002"
      ]
     },
     "execution_count": 8,
     "metadata": {},
     "output_type": "execute_result"
    }
   ],
   "source": [
    "Pa2 = (0.94)*0.998 + (0.95)*0.002\n",
    "Pa2"
   ]
  },
  {
   "cell_type": "code",
   "execution_count": 9,
   "id": "7919c0ab",
   "metadata": {},
   "outputs": [
    {
     "data": {
      "text/plain": [
       "0.052708633213644884"
      ]
     },
     "execution_count": 9,
     "metadata": {},
     "output_type": "execute_result"
    }
   ],
   "source": [
    "(0.3 * Pa1 * 0.001)/(0.3 * Pa2 * 0.001 + 0.99 *Pa1 * 0.001)"
   ]
  },
  {
   "cell_type": "code",
   "execution_count": null,
   "id": "cbbd2ac8",
   "metadata": {},
   "outputs": [],
   "source": []
  }
 ],
 "metadata": {
  "kernelspec": {
   "display_name": "PyCharm (3D_HD_SW2)",
   "language": "python",
   "name": "pycharm-bf70afba"
  },
  "language_info": {
   "codemirror_mode": {
    "name": "ipython",
    "version": 3
   },
   "file_extension": ".py",
   "mimetype": "text/x-python",
   "name": "python",
   "nbconvert_exporter": "python",
   "pygments_lexer": "ipython3",
   "version": "3.9.6"
  }
 },
 "nbformat": 4,
 "nbformat_minor": 5
}
